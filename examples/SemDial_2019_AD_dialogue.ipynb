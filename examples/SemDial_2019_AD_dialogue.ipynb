{
 "cells": [
  {
   "cell_type": "code",
   "execution_count": 4,
   "metadata": {},
   "outputs": [],
   "source": [
    "import sys\n",
    "import csv\n",
    "from collections import Counter\n",
    "sys.path.append(\"../\")\n",
    "from agreement.k_free import multirater_kfree\n",
    "from agreement.cohen_kappa import multikappa"
   ]
  },
  {
   "cell_type": "code",
   "execution_count": 5,
   "metadata": {},
   "outputs": [
    {
     "name": "stdout",
     "output_type": "stream",
     "text": [
      "{'qy^d': 2, 'qr': 8, 'qw^d': 3, 'qw': 1, 'no': 14, 'qy': 0, 'na': 13, 'nn^e': 12, 'bh': 6, 'sd-qw': 15, 'ny': 9, 'qc': 7, 'other': 16, 'ny^e': 11, 'br': 5, 'nn': 10, '^g': 4}\n"
     ]
    }
   ],
   "source": [
    "tags_of_interest = ['qy',\n",
    "                    'qw',\n",
    "                    'qy^d',\n",
    "                    'qw^d',\n",
    "                    '^g',\n",
    "                    'br',\n",
    "                    'bh',\n",
    "                    'qc',\n",
    "                    'qr',\n",
    "                    'ny',\n",
    "                    'nn',\n",
    "                    'ny^e',\n",
    "                    'nn^e',\n",
    "                    'na',\n",
    "                    'no',\n",
    "                    'sd-qw',\n",
    "                   'other']  # adding 'other for not marking these as having these tags\n",
    "\n",
    "tag_idx_map = {tag:i for i, tag in enumerate(tags_of_interest)}\n",
    "print tag_idx_map\n",
    "\n",
    "# a list of m lists (where m = number of utterances/intances) and k+1 wide (where k = number of tags of interest) and +1 is for the 'other'\n",
    "file_name = '../../../Dropbox/QM_lecturer/phd_supervision/Shamila_Wakefield_Brock_001_01 (version 1)_MP_JH.csv'"
   ]
  },
  {
   "cell_type": "code",
   "execution_count": 6,
   "metadata": {},
   "outputs": [],
   "source": [
    "def kappa_agreement_for_tagset(tags_of_interest, file_name,tag_idx_map, debug=False):\n",
    "    all_annotations = []\n",
    "    with open(file_name) as csv_file:\n",
    "        csv_reader = csv.reader(csv_file, delimiter=',')\n",
    "        line_count = 0\n",
    "        tag_occurences = Counter()\n",
    "        for row in csv_reader:\n",
    "            if line_count == 0:\n",
    "                line_count += 1\n",
    "            else:\n",
    "                utterance_annotations = [0] * len(tags_of_interest)\n",
    "                for row_idx in [8,9,14]:\n",
    "                    tag = row[row_idx]\n",
    "                    if tag not in tags_of_interest:\n",
    "                        if row_idx in [9,14] and not tag == '':\n",
    "                            if debug:\n",
    "                                print 'Warning: tag', tag, 'not in tags of interest for annotator', row_idx\n",
    "                        tag = 'other'\n",
    "                    utterance_annotations[tag_idx_map[tag]] += 1\n",
    "                    tag_occurences[tag]+=1\n",
    "                #print utterance_annotations\n",
    "                all_annotations.append(utterance_annotations)\n",
    "                line_count += 1\n",
    "    return multikappa(all_annotations,3), tag_occurences"
   ]
  },
  {
   "cell_type": "code",
   "execution_count": 7,
   "metadata": {},
   "outputs": [
    {
     "name": "stdout",
     "output_type": "stream",
     "text": [
      "Kappa =  0.844023735519\n",
      "z =  15.7390472868\n",
      "PA =  0.920138888889\n",
      "PE =  0.487991898148\n",
      "0.844023735519\n",
      "Counter({'other': 398, 'qw': 30, 'qy': 26, 'sd-qw': 26, 'br': 22, 'qc': 15, 'qy^d': 12, 'ny': 12, 'ny^e': 11, 'na': 8, 'nn^e': 6, 'no': 4, 'qw^d': 3, '^g': 2, 'nn': 1}) 576\n"
     ]
    }
   ],
   "source": [
    "k,counts = kappa_agreement_for_tagset(tags_of_interest, file_name, tag_idx_map)\n",
    "print k[0]\n",
    "print counts, sum(counts.values())"
   ]
  },
  {
   "cell_type": "code",
   "execution_count": 8,
   "metadata": {},
   "outputs": [
    {
     "name": "stdout",
     "output_type": "stream",
     "text": [
      "TAG in focus: qy\n",
      "Kappa =  0.758321678322\n",
      "z =  4.04927247105\n",
      "PA =  0.979166666667\n",
      "PE =  0.913797260802\n",
      "******************************\n",
      "TAG in focus: qw\n",
      "Kappa =  0.894505494505\n",
      "z =  5.16817801088\n",
      "PA =  0.989583333333\n",
      "PE =  0.901258680556\n",
      "******************************\n",
      "TAG in focus: qy^d\n",
      "Kappa =  0.659574468085\n",
      "z =  2.33343521032\n",
      "PA =  0.986111111111\n",
      "PE =  0.959201388889\n",
      "******************************\n",
      "TAG in focus: qw^d\n",
      "Kappa =  1.0\n",
      "z =  1.74111901147\n",
      "PA =  1.0\n",
      "PE =  0.989637586806\n",
      "******************************\n",
      "TAG in focus: ^g\n",
      "Kappa =  0.498257839721\n",
      "z =  0.707098181608\n",
      "PA =  0.996527777778\n",
      "PE =  0.99307966821\n",
      "******************************\n",
      "TAG in focus: br\n",
      "Kappa =  0.952740400394\n",
      "z =  4.64606244474\n",
      "PA =  0.996527777778\n",
      "PE =  0.926528742284\n",
      "******************************\n",
      "TAG in focus: bh\n",
      "Kappa =  0\n",
      "z =  0\n",
      "PA =  1.0\n",
      "PE =  1.0\n",
      "******************************\n",
      "TAG in focus: qc\n",
      "Kappa =  0.794652406417\n",
      "z =  3.15993612411\n",
      "PA =  0.989583333333\n",
      "PE =  0.949273003472\n",
      "******************************\n",
      "TAG in focus: qr\n",
      "Kappa =  0\n",
      "z =  0\n",
      "PA =  1.0\n",
      "PE =  1.0\n",
      "******************************\n",
      "TAG in focus: ny\n",
      "Kappa =  1.0\n",
      "z =  3.53778886727\n",
      "PA =  1.0\n",
      "PE =  0.959201388889\n",
      "******************************\n",
      "TAG in focus: nn\n",
      "Kappa =  -0.00173913043477\n",
      "z =  -0.00174215500486\n",
      "PA =  0.996527777778\n",
      "PE =  0.996533805941\n",
      "******************************\n",
      "TAG in focus: ny^e\n",
      "Kappa =  0.907320997586\n",
      "z =  3.06781903175\n",
      "PA =  0.996527777778\n",
      "PE =  0.962534963349\n",
      "******************************\n",
      "TAG in focus: nn^e\n",
      "Kappa =  0.663157894737\n",
      "z =  1.64149643489\n",
      "PA =  0.993055555556\n",
      "PE =  0.979383680556\n",
      "******************************\n",
      "TAG in focus: na\n",
      "Kappa =  0.87323943662\n",
      "z =  2.50467785088\n",
      "PA =  0.996527777778\n",
      "PE =  0.972608024691\n",
      "******************************\n",
      "TAG in focus: no\n",
      "Kappa =  0.496503496503\n",
      "z =  0.999950926875\n",
      "PA =  0.993055555556\n",
      "PE =  0.986207561728\n",
      "******************************\n",
      "TAG in focus: sd-qw\n",
      "Kappa =  0.637482517483\n",
      "z =  3.40401769145\n",
      "PA =  0.96875\n",
      "PE =  0.913797260802\n",
      "******************************\n"
     ]
    }
   ],
   "source": [
    "all_results = []\n",
    "for i in range(0, len(tags_of_interest)-1):\n",
    "    tag =  tags_of_interest[i]\n",
    "    print \"TAG in focus:\", tag\n",
    "    new_tags_of_interest = [tag] + ['other']\n",
    "    new_tag_idx_map = {tag:k for k, tag in enumerate(new_tags_of_interest)}\n",
    "    k, counts = kappa_agreement_for_tagset(new_tags_of_interest, file_name, new_tag_idx_map)\n",
    "    all_results.append([tags_of_interest[i], counts[tags_of_interest[i]], k[0]])\n",
    "    print \"*\" * 30"
   ]
  },
  {
   "cell_type": "code",
   "execution_count": 9,
   "metadata": {},
   "outputs": [
    {
     "data": {
      "text/plain": [
       "[['qy', 26, 0.7583216783216817],\n",
       " ['qw', 30, 0.894505494505496],\n",
       " ['qy^d', 12, 0.659574468085108],\n",
       " ['qw^d', 3, 1.0],\n",
       " ['^g', 2, 0.498257839721253],\n",
       " ['br', 22, 0.9527404003938301],\n",
       " ['bh', 0, 0],\n",
       " ['qc', 15, 0.7946524064171148],\n",
       " ['qr', 0, 0],\n",
       " ['ny', 12, 1.0],\n",
       " ['nn', 1, -0.0017391304347679584],\n",
       " ['ny^e', 11, 0.9073209975864847],\n",
       " ['nn^e', 6, 0.6631578947368483],\n",
       " ['na', 8, 0.8732394366197138],\n",
       " ['no', 4, 0.49650349650348563],\n",
       " ['sd-qw', 26, 0.6374825174825213]]"
      ]
     },
     "execution_count": 9,
     "metadata": {},
     "output_type": "execute_result"
    }
   ],
   "source": [
    "all_results"
   ]
  },
  {
   "cell_type": "code",
   "execution_count": 10,
   "metadata": {},
   "outputs": [
    {
     "name": "stdout",
     "output_type": "stream",
     "text": [
      "Counter({'other': 398, 'nonother': 178})\n",
      "Kappa =  0.902433515894\n",
      "z =  16.6939737923\n",
      "PA =  0.958333333333\n",
      "PE =  0.572940779321\n",
      "(0.9024335158940783, 16.693973792276957, 0.0029222070088269062, 0.9583333333333338, 0.5729407793209876)\n"
     ]
    }
   ],
   "source": [
    "# check out the 'other' tag accuracy\n",
    "debug = False\n",
    "all_annotations = []\n",
    "new_tags_of_interest = ['other', 'nonother']\n",
    "new_tag_idx_map = {tag:k for k, tag in enumerate(new_tags_of_interest)}\n",
    "with open(file_name) as csv_file:\n",
    "    csv_reader = csv.reader(csv_file, delimiter=',')\n",
    "    line_count = 0\n",
    "    tag_occurences = Counter()\n",
    "    for row in csv_reader:\n",
    "        if line_count == 0:\n",
    "            line_count += 1\n",
    "        else:\n",
    "            utterance_annotations = [0] * len(new_tags_of_interest)\n",
    "            for row_idx in [8,9,14]:\n",
    "                tag = row[row_idx]\n",
    "                if tag not in tags_of_interest:\n",
    "                    if row_idx in [9,14] and not tag == '':\n",
    "                        if debug:\n",
    "                            print 'Warning: tag', tag, 'not in tags of interest for annotator', row_idx\n",
    "                    tag = 'other'\n",
    "                else:\n",
    "                    tag = 'nonother'\n",
    "                utterance_annotations[new_tag_idx_map[tag]] += 1\n",
    "                tag_occurences[tag]+=1\n",
    "            all_annotations.append(utterance_annotations)\n",
    "            line_count += 1\n",
    "print tag_occurences\n",
    "print multikappa(all_annotations,3)"
   ]
  },
  {
   "cell_type": "code",
   "execution_count": null,
   "metadata": {},
   "outputs": [],
   "source": []
  }
 ],
 "metadata": {
  "kernelspec": {
   "display_name": "Python 2",
   "language": "python",
   "name": "python2"
  },
  "language_info": {
   "codemirror_mode": {
    "name": "ipython",
    "version": 2
   },
   "file_extension": ".py",
   "mimetype": "text/x-python",
   "name": "python",
   "nbconvert_exporter": "python",
   "pygments_lexer": "ipython2",
   "version": "2.7.15"
  }
 },
 "nbformat": 4,
 "nbformat_minor": 2
}
